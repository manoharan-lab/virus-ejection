{
 "cells": [
  {
   "cell_type": "markdown",
   "metadata": {},
   "source": [
    "# Model for DNA ejection from bacteriophage $\\lambda$"
   ]
  },
  {
   "cell_type": "code",
   "execution_count": 3,
   "metadata": {
    "collapsed": false
   },
   "outputs": [],
   "source": [
    "# makes plots display inline in notebook interface:\n",
    "%matplotlib inline \n",
    "import matplotlib\n",
    "\n",
    "import numpy as np\n",
    "import matplotlib.pyplot as plt\n",
    "\n",
    "# seaborn for data visualization (not installed by default in Anaconda)\n",
    "# (filter suppresses a particular Warning issued by matplotlib)\n",
    "import warnings\n",
    "warnings.filterwarnings(\"ignore\", category=UserWarning, module=\"matplotlib\")\n",
    "import seaborn as sns\n",
    "\n",
    "# pandas for handling data\n",
    "import pandas as pd\n",
    "\n",
    "# use emcee for MCMC sampling (not installed by default in Anaconda)\n",
    "import emcee"
   ]
  },
  {
   "cell_type": "markdown",
   "metadata": {},
   "source": [
    "## The experiment and some sample data\n",
    "\n",
    "We measure the scattered intensity as a function of time as a virus ejects its DNA.  The intensity decreases when the ejection starts.  Here is a plot of one of our data sets (this data is available in the github repository). The intensity is normalized such that the average intensity before the ejection starts is 1.0 and the average value at the end of the ejection is 0.0."
   ]
  },
  {
   "cell_type": "code",
   "execution_count": 38,
   "metadata": {
    "collapsed": false
   },
   "outputs": [
    {
     "data": {
      "text/plain": [
       "<matplotlib.text.Text at 0x92e2f98cf8>"
      ]
     },
     "execution_count": 38,
     "metadata": {},
     "output_type": "execute_result"
    },
    {
     "data": {
      "image/png": "[encoded data removed]",
      "text/plain": [
       "<matplotlib.figure.Figure at 0x92e2ff31d0>"
      ]
     },
     "metadata": {},
     "output_type": "display_data"
    }
   ],
   "source": [
    "sample_ejection = pd.read_table('./tests/test_data/result_151119chamber3_5_X7_294,347.txt')\n",
    "sample_ejection.columns = ['time', 'intensity']\n",
    "ax = sample_ejection.plot(x='time', y='intensity', kind='scatter', s=1)\n",
    "ax.set_xlabel('time (s)')"
   ]
  },
  {
   "cell_type": "markdown",
   "metadata": {},
   "source": [
    "## What we want to infer"
   ]
  },
  {
   "cell_type": "markdown",
   "metadata": {},
   "source": [
    "We want to infer the friction coefficient of the ejection as a function of the fraction of DNA in the virus.  We also want to know if the ejection \"pauses\" at any point or reverses itself; in other words, does the velocity decrease smoothly with time or not?  Evidence of \"pauses\" could be used to support the hypothesis that the DNA undergoes phase transitions during ejection."
   ]
  },
  {
   "cell_type": "markdown",
   "metadata": {},
   "source": [
    "## Model for friction coefficient"
   ]
  },
  {
   "cell_type": "markdown",
   "metadata": {},
   "source": [
    "### Intensity as a function of fraction\n",
    "\n",
    "Let $\\phi(t)$, where $t$ is time, be the fraction of DNA in the virus. $\\phi = 1$ before ejection, when the capsid is full, and $\\phi=0$ after all the DNA has been ejected.  We assume that the measured intensity $I$ scales linearly with $\\phi$.  We have some data to justify this assumption, but it's also the simplest assumption we can make:\n",
    "$$I(t) = a\\phi(t) + b + N(0, \\sigma)$$\n",
    "where a and b are constants, and $N$ is a normal distribution with mean of 0 and standard deviation of $\\sigma$, which is meant to model the shot noise in our detector.  Shot noise is usually described by a Poisson distribution, but in our experiments the number of detection events is large enough that it is safe to approximate the Poisson as a Gaussian.\n",
    "\n",
    "### Fraction as a function of friction\n",
    "\n",
    "We can write down an equation of motion for the DNA using Newton's second law:\n",
    "$$m\\frac{d^2x}{dt^2} = F - F_D$$\n",
    "where $F$ is the ejection force and $F_D$ is the drag force. Because we are at low Reynolds number, we can ignore the acceleration term, leaving us with\n",
    "$$F = F_D$$\n",
    "\n",
    "The drag force can be written as the product of a velocity $v$ times a friction coefficient $\\gamma$:\n",
    "$$F_D = \\gamma v$$\n",
    "We define the velocity in terms of the fraction $\\phi$:\n",
    "$$v = \\frac{d\\phi}{dt}$$.\n",
    "\n",
    "Now, we assume that both the ejection force and the drag coefficient are _state functions_ -- that is, they depend only on the fraction of DNA and the buffer conditions: $F = F(\\phi)$ and $\\gamma = \\gamma(\\phi)$.  Any dependence on time is implicit. This is the assumption made in ref. [1].  Then we have:\n",
    "$$\\frac{d\\phi}{dt} = \\frac{F(\\phi)}{\\gamma(\\phi)}$$. \n",
    "\n",
    "Ref. [1] also introduces a model for the ejection force $F(\\phi)$, which we can also use here.  So $F(\\phi)$ is known. The goal then is to infer $\\gamma(\\phi)$ from the intensity data.  First we need to write $\\phi$ in terms of $\\gamma$.  To do this, we need to integrate:\n",
    "$$ \\int_1^\\phi \\frac{F(\\phi')}{\\gamma(\\phi')} d\\phi'= \\int_{t_0}^{t} dt' = t-t_0 $$\n",
    "where $\\phi'$ and $t'$ are dummy variables.  Solution for $\\phi$ is implicit, but if we know $F(\\phi)$ and $\\gamma(\\phi)$ (for example, we have an MCMC sample of $\\gamma(\\phi)$), we can construct $\\phi(t)$ through numerical integration.\n",
    "\n",
    "\n",
    "### Final statistical model\n",
    "\n",
    "The generative model for the data is therefore the combination of the equations from the last two subsections.  We solve for $\\phi(t)$ numerically as described at the end of \"Fraction as a function of friction\", then insert into the equation for $I(t)$ in the equation at the end of \"Intensity as a function of fraction\". \n",
    "\n",
    "\n",
    "[1]: Grayson, P.; Han, L.; Winther, T.; Phillips, R. Real-Time Observations of Single Bacteriophage λ DNA Ejections in Vitro. PNAS 2007, 104 (37), 14652–14657.\n",
    "  \n"
   ]
  }
 ],
 "metadata": {
  "kernelspec": {
   "display_name": "Python 3",
   "language": "python",
   "name": "python3"
  },
  "language_info": {
   "codemirror_mode": {
    "name": "ipython",
    "version": 3
   },
   "file_extension": ".py",
   "mimetype": "text/x-python",
   "name": "python",
   "nbconvert_exporter": "python",
   "pygments_lexer": "ipython3",
   "version": "3.5.1"
  }
 },
 "nbformat": 4,
 "nbformat_minor": 0
}
